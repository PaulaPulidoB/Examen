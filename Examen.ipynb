{
  "nbformat": 4,
  "nbformat_minor": 0,
  "metadata": {
    "colab": {
      "provenance": [],
      "authorship_tag": "ABX9TyOSRIovVDBHDYubuogMeMqs",
      "include_colab_link": true
    },
    "kernelspec": {
      "name": "python3",
      "display_name": "Python 3"
    },
    "language_info": {
      "name": "python"
    }
  },
  "cells": [
    {
      "cell_type": "markdown",
      "metadata": {
        "id": "view-in-github",
        "colab_type": "text"
      },
      "source": [
        "<a href=\"https://colab.research.google.com/github/PaulaPulidoB/Examen/blob/main/Examen.ipynb\" target=\"_parent\"><img src=\"https://colab.research.google.com/assets/colab-badge.svg\" alt=\"Open In Colab\"/></a>"
      ]
    },
    {
      "cell_type": "code",
      "execution_count": null,
      "metadata": {
        "id": "qck21h4Sy4sK"
      },
      "outputs": [],
      "source": []
    },
    {
      "cell_type": "code",
      "source": [
        "#Respuesta Dq\n",
        "\n",
        "# en este ejercicio primero se realiza un lista de nombres con sus respectivos\n",
        "# telefónicos\n",
        "people = [\n",
        "    {\"name\": \"Carter\", \"number\": \"+1-617-495-1000\"},\n",
        "    {\"name\": \"David\", \"number\": \"+1-617-495-1000\"},\n",
        "    {\"name\": \"John\", \"number\": \"+1-949-468-2750\"}\n",
        "]\n",
        "\n",
        "# acá se llama con input el nombre (name)\n",
        "name = input(\"Name: \")\n",
        "\n",
        "# en esta parte se indica buscar en el dato de people el nombre\n",
        "# si este nombre se encuentra en la lista people mencionar además el número\n",
        "# telefónico asociado al nombre escrito\n",
        "for person in people:\n",
        "    if person[\"name\"] == name:\n",
        "        number = person[\"number\"]\n",
        "        print(f\"Found {number}\")\n",
        "        break\n",
        "# si se encuentra da como resultado el nombre y el número, sino imprimir\n",
        "# not found\n",
        "else:\n",
        "    print(\"Not found\")"
      ],
      "metadata": {
        "colab": {
          "base_uri": "https://localhost:8080/"
        },
        "id": "LsXaFj-tzTEG",
        "outputId": "aa1e3788-dac6-46cd-ad90-eff66cc61e50"
      },
      "execution_count": 4,
      "outputs": [
        {
          "output_type": "stream",
          "name": "stdout",
          "text": [
            "Name: David\n",
            "Found +1-617-495-1000\n"
          ]
        }
      ]
    },
    {
      "cell_type": "code",
      "source": [
        "# Respuesta Cq)\n",
        "# bloopers o bucles en Python corresponden al if y else que permite ejecutar en bloque\n",
        "# de código solo si se cumple una condición específica. Else si la condición\n",
        "# del if es falsa, el bloque de código en esle se ejecuta. El elif se usa\n",
        "# para agregar más condiciones, es utilizado cuando se tiene más de dos opciones\n",
        "# para evaluar.\n",
        "\n",
        "edad=20\n",
        "if edad < 13:\n",
        "    print(\"Eres menor de edad\")\n",
        "elif edad < 18:\n",
        "    print(\"Eres un adolescente\")\n",
        "else:\n",
        "    print(\"Eres un adulto\")\n",
        "\n",
        "\n",
        "\n",
        "\n"
      ],
      "metadata": {
        "colab": {
          "base_uri": "https://localhost:8080/"
        },
        "id": "r3lR30BS3j1P",
        "outputId": "b505e305-1f3b-474e-a472-1e879067030b"
      },
      "execution_count": 14,
      "outputs": [
        {
          "output_type": "stream",
          "name": "stdout",
          "text": [
            "Eres un adulto\n"
          ]
        }
      ]
    },
    {
      "cell_type": "code",
      "source": [],
      "metadata": {
        "id": "WeV5Ys878hQz"
      },
      "execution_count": null,
      "outputs": []
    }
  ]
}